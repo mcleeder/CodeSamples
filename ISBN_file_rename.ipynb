{
 "cells": [
  {
   "cell_type": "code",
   "execution_count": 1,
   "id": "imported-boutique",
   "metadata": {},
   "outputs": [],
   "source": [
    "import pandas \n",
    "import os\n",
    "from os import listdir, rename, path\n",
    "from os.path import isfile, join, exists\n",
    "from shutil import copyfile"
   ]
  },
  {
   "cell_type": "code",
   "execution_count": 2,
   "id": "palestinian-fifth",
   "metadata": {},
   "outputs": [],
   "source": [
    "img_path = r'D:\\Coding\\Python\\jupyter\\Cards'"
   ]
  },
  {
   "cell_type": "code",
   "execution_count": 3,
   "id": "exotic-enlargement",
   "metadata": {},
   "outputs": [],
   "source": [
    "data = pandas.read_excel(r'D:\\Coding\\Python\\jupyter\\Cards\\docs\\_CatalogMaster.xlsx', dtype={'ISBN': str})"
   ]
  },
  {
   "cell_type": "code",
   "execution_count": 4,
   "id": "provincial-allowance",
   "metadata": {},
   "outputs": [],
   "source": [
    "df = pandas.DataFrame(data, columns=['ISBN', 'ProductCode']).dropna(how='all')"
   ]
  },
  {
   "cell_type": "code",
   "execution_count": 5,
   "id": "liable-growing",
   "metadata": {},
   "outputs": [],
   "source": [
    "img_files_list = [f for f in listdir(img_path) if isfile(join(img_path, f))]"
   ]
  },
  {
   "cell_type": "code",
   "execution_count": 6,
   "id": "refined-counter",
   "metadata": {},
   "outputs": [],
   "source": [
    "def try_get_isbn(product_code):\n",
    "    try:\n",
    "        line = df.loc[df['ProductCode'] == product_code]\n",
    "        isbn = (True, line.iloc[0,0])\n",
    "    except LookupError as e:\n",
    "        isbn = (False, 'Product code not found')  \n",
    "    return isbn"
   ]
  },
  {
   "cell_type": "code",
   "execution_count": 7,
   "id": "primary-character",
   "metadata": {},
   "outputs": [],
   "source": [
    "with open(join(img_path, \"log.txt\"), \"a\") as log_file:\n",
    "    for image in img_files_list:\n",
    "        img_product_code = image.split(\"-\")[0]\n",
    "        img_sub_list = [f for f in listdir(img_path) if img_product_code == f.split(\"-\")[0]]\n",
    "\n",
    "        for img in img_sub_list:\n",
    "            isbn = try_get_isbn(img_product_code)\n",
    "            if isbn[0]:\n",
    "                if exists(join(img_path, f\"{isbn[1]}.jpg\")):\n",
    "                    rename(join(img_path, img), join(img_path, f\"{isbn[1]}_1.jpg\"))\n",
    "                    log_file.write(f\"{img}, {isbn[1]}_1.jpg\\n\")\n",
    "                else:\n",
    "                    rename(join(img_path, img), join(img_path, f\"{isbn[1]}.jpg\"))\n",
    "                    log_file.write(f\"{img}, {isbn[1]}.jpg\\n\")\n",
    "            else:\n",
    "                log_file.write(f\"{img}, {isbn[1]}\\n\")\n"
   ]
  },
  {
   "cell_type": "code",
   "execution_count": null,
   "id": "developing-burner",
   "metadata": {},
   "outputs": [],
   "source": []
  }
 ],
 "metadata": {
  "kernelspec": {
   "display_name": "Python 3",
   "language": "python",
   "name": "python3"
  },
  "language_info": {
   "codemirror_mode": {
    "name": "ipython",
    "version": 3
   },
   "file_extension": ".py",
   "mimetype": "text/x-python",
   "name": "python",
   "nbconvert_exporter": "python",
   "pygments_lexer": "ipython3",
   "version": "3.8.5"
  }
 },
 "nbformat": 4,
 "nbformat_minor": 5
}
